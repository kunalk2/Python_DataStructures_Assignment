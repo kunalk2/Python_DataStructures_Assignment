{
  "nbformat": 4,
  "nbformat_minor": 0,
  "metadata": {
    "colab": {
      "provenance": []
    },
    "kernelspec": {
      "name": "python3",
      "display_name": "Python 3"
    },
    "language_info": {
      "name": "python"
    }
  },
  "cells": [
    {
      "cell_type": "markdown",
      "source": [
        "***Q1. What are data structures, and why are they important?***\n",
        "\n",
        "---\n",
        "\n",
        "\n",
        "Ans. Data structure is a way of organizing and storing data so that it can be accessed and maniplated efficiently by managing the data based on its charactertics and intended use.\n",
        "Data structures are important as Choosing the the right data structure increase the efficiency and performance of the program as it simplify the data manuplation , better memory usage, and optimizing searching.\n",
        "\n",
        "\n",
        "\n",
        "***Q2. Explain the difference between mutable and immutable data types with examples?***\n",
        "\n",
        "---\n",
        "\n",
        "\n",
        "Ans. Mutable data types can be changed like to add, modify and remove items without changing there identity after creating the data type like Lists, Dictionary and Set. Example: list =[1,2,3] list.append(4) print(list) we get list =[1,2,3,4]\n",
        "\n",
        "Immutable data type cannot be changed after we have created it but if any operation seems to modify it it creates a new object. Examople:  x =10\n",
        "x = x +1 print(x) will give us 11 so a new object x= 11 is created.\n",
        "\n",
        "***Q3. What are the main differences between lists and tuples in Python? ***\n",
        "\n",
        "---\n",
        "\n",
        "\n",
        "Ans. The main difference between lists and tuples in python is lists are\n",
        "mutable data structure and tuples are immutable data structures.\n",
        "In Lists we can add ,modify, or remove the items it gives us a flexibility to modify the data according to our use.\n",
        "In Tuple you cannot modify, add or remove the data it can be used in cases where a fixed database is needed like employee id in a company as it is fixed when the employee joins or the value of some constants like pi, or any mathematical constant.\n",
        "\n",
        "***Q4. Describe how dictionaries store data.***\n",
        "\n",
        "---\n",
        "\n",
        "Ans. The data is stored in pairs of key and value .The pairs may be unorganised or may seem in different order than written in the program .By pairs we mean {\"name\" :Kunal, \"age\":20} this is a dictionary in this name and age are the keys with kunal and 20 are there values respectively.\n",
        "\n",
        "***Q5. Why might you use a set instead of a list in Python?***\n",
        "\n",
        "---\n",
        "Ans. In list if there is a duplicate item we need to remove it manually while in a set if there is a value that is reapeated the set will show that value one time only and remove its duplicates. In sets we can also do operations like union , intersection, difference.\n",
        "\n",
        "***Q6. What is a string in Python, and how is it different from a list?***\n",
        "\n",
        "---\n",
        "Ans. A string in Python is a sequence of characters, enclosed within either single quotes (') or double quotes (\"). It is a data type used to represent text. Strings are immutable while lists are mutable . In a list there can be different data types like string, float, integer, boolean, etc.\n",
        "\n",
        "***Q7. How do tuples ensure data integrity in Python?***\n",
        "\n",
        "---\n",
        "Ans. Tuples are immutable i.e. once a tuple is created it cannot be modified and it is the key feature that ensures the data integrity .The order is maintained in the tuple.\n",
        "\n",
        "***Q8. What is a hash table, and how does it relate to dictionaries in Python?***\n",
        "\n",
        "---\n",
        "Ans. A hash table is a data structure that stores key-value pairs and provides very fast access to values based on their keys. It works using:\n",
        "\n",
        "1. Hashing Function: Converts a key into a unique index (called a hash value).\n",
        "\n",
        "2. Array (or Bucket List): Stores the actual data (key-value pairs) at that index.\n",
        "\n",
        "3. Collision Handling: If two keys hash to the same index, the hash table has a strategy to store both without data loss (e.g., probing or chaining).\n",
        "\n",
        "***Q9. Can lists contain different data types in Python?***\n",
        "\n",
        "---\n",
        "Ans. Lists can contain different data types such as strings, boolean values, integers, float, another list, dictionary.\n",
        "\n",
        "***Q10.  Explain why strings are immutable in Python?***\n",
        "\n",
        "---\n",
        "Ans. Strings are one of the most used data type and strings are often used as the keys in the dictionary.Immutability prevents accidental or unauthorized changes in strings.\n",
        "\n",
        "***Q11. What advantages do dictionaries offer over lists for certain tasks?***\n",
        "\n",
        "---\n",
        "Ans. 1. Dictionaries in Python offer several advantages over lists for certain tasks. One of the biggest benefits is their ability to provide fast lookups using keys.\n",
        "2. Dictionaries store data as key-value pairs, which makes the structure ideal for mapping relationships (like names to phone numbers) and improves readability because keys act as meaningful labels.Unlike lists, which rely on index positions, dictionaries eliminate the need to remember or manage indexes.\n",
        "\n",
        "***Q12. Describe a scenario where using a tuple would be preferable over a list.***\n",
        "\n",
        "---\n",
        "Ans. A tuple is preferable over a list in scenarios where the data is fixed and should not be modified so it provides data integrity.For example: storing latitude and longitude of a place, fixed values of the constants. Lists are mutable so its contents can be changed.\n",
        "\n",
        "***Q13. How do sets handle duplicate values in Python?***\n",
        "\n",
        "---\n",
        "Ans. Sets automatically eliminate duplicate values. When you add elements to a set, any duplicates are silently ignored, and only unique values are stored.\n",
        "\n",
        "***Q14. How does the “in” keyword work differently for lists and dictionaries?***\n",
        "\n",
        "---\n",
        "Ans.\n",
        "1. The in keyword checks whether a specific element exists in the list. It performs a linear search, so it goes through the list element by element until it finds a match.\n",
        "2. The in keyword checks whether a specific key exists in the dictionary, not the value. It performs a quick hash lookup, making it much faster compared to lists.\n",
        "\n",
        "***Q15. Can you modify the elements of a tuple? Explain why or why not.***\n",
        "\n",
        "---\n",
        "Ans. We cannot modify the elements of tuple in python as tuples are immutable.Once a tuple is created, its contents are fixed, meaning you cannot change, add, or remove elements. This immutability is by design and provides several benefits, such as ensuring data integrity.\n",
        "\n",
        "***Q16. What is a nested dictionary, and give an example of its use case?***\n",
        "\n",
        "---\n",
        "Ans. A nested dictionary in Python is a dictionary where the values themselves are dictionaries. This allows you to represent more complex data structures, where each key in the outer dictionary maps to an inner dictionary, enabling you to store hierarchical or multi-level data. This structure is especially useful for situations where you need to organize data in a way that reflects relationships between entities.\n",
        "\n",
        "***Q17. Describe the time complexity of accessing elements in a dictionary.***\n",
        "\n",
        "---\n",
        "Ans. The time complexity of accessing elements in a dictionary is O(1) on average, meaning it takes constant time regardless of the size of the dictionary. This efficiency is due to the underlying hash table implementation. When you access a value using a key, Python computes a hash for the key, which is used to directly locate the corresponding value in the dictionary. As long as there are no hash collisions, the time required to find and retrieve the value remains constant.\n",
        "\n",
        "***Q18. In what situations are lists preferred over dictionaries?***\n",
        "\n",
        "---\n",
        "Ans. Lists are preferred over dictionaries in situations where order matters, you need to store a simple collection of items, or when you're working with sequential data. Lists are ideal for scenarios where you need to maintain a collection of elements that may change in size, such as appending or removing items. For instance, if you're working with a collection of numbers, strings, or any other type of data that doesn't require key-value associations, a list is a more straightforward and appropriate choice.\n",
        "\n",
        "***Q19. Why are dictionaries considered unordered, and how does that affect data retrieval?***\n",
        "\n",
        "---\n",
        "Ans. Dictionaries in Python are considered unordered because the elements (key-value pairs) are not stored in a specific order. This is due to the underlying implementation using a hash table, where the keys are hashed into indexes, and the order of insertion does not influence how the data is stored or accessed. Unlike lists, where the order of elements is preserved, dictionaries rely on the hash value of the keys for efficient access, making them inherently unordered.\n",
        "\n",
        "***Q20. Explain the difference between a list and a dictionary in terms of data retrieval.***\n",
        "\n",
        "---\n",
        "Ans. The main difference between a list and a dictionary in terms of data retrieval lies in how data is accessed and organized. In a list, data is accessed using numeric indices, where each element is stored at a specific position, and retrieval is done by specifying the index. This allows for constant-time (O(1)) access when the index is known, but searching for a specific value in the list requires iterating through the elements, making it an O(n) operation. On the other hand, in a dictionary, data is accessed using unique keys rather than indices. Each key maps directly to a value, and dictionaries are implemented using hash tables, which provide constant-time (O(1)) access on average for key-based retrieval, making lookups much faster. Unlike lists, dictionaries do not rely on the order of elements.\n",
        "\n",
        "\n",
        "\n"
      ],
      "metadata": {
        "id": "UybqJnERfzF2"
      }
    },
    {
      "cell_type": "code",
      "source": [
        "# Q1.  Write a code to create a string with your name and print it.\n",
        "my_string = \"Kunal Yadav\"\n",
        "print(\"My Name is :\", my_string)\n",
        "type(my_string)"
      ],
      "metadata": {
        "colab": {
          "base_uri": "https://localhost:8080/"
        },
        "id": "awNth3XItt4Y",
        "outputId": "2fe36071-f34a-4360-bca5-f6aee5e2de3e"
      },
      "execution_count": null,
      "outputs": [
        {
          "output_type": "stream",
          "name": "stdout",
          "text": [
            "My Name is : Kunal Yadav\n"
          ]
        },
        {
          "output_type": "execute_result",
          "data": {
            "text/plain": [
              "str"
            ]
          },
          "metadata": {},
          "execution_count": 3
        }
      ]
    },
    {
      "cell_type": "code",
      "source": [
        "# Q2. Write a code to find the length of the string \"Hello World\".\n",
        "my_string = \"Hello World\"\n",
        "print(\"Length of the string is :\", len(my_string))"
      ],
      "metadata": {
        "colab": {
          "base_uri": "https://localhost:8080/"
        },
        "id": "MS4kY551uKVb",
        "outputId": "ad4d753b-5aee-478b-987d-d3525a15efa0"
      },
      "execution_count": null,
      "outputs": [
        {
          "output_type": "stream",
          "name": "stdout",
          "text": [
            "Length of the string is : 11\n"
          ]
        }
      ]
    },
    {
      "cell_type": "code",
      "source": [
        "# Q3. Write a code to slice the first 3 characters from the string \"Python Programming\"\n",
        "\n",
        "my_string = \"Python Programming\"\n",
        "Firts_three = my_string[0:3]\n",
        "print(Firts_three)"
      ],
      "metadata": {
        "colab": {
          "base_uri": "https://localhost:8080/"
        },
        "id": "-d88aJl5uXY6",
        "outputId": "b6eefd1f-8c06-43c9-f469-38a01fc1722a"
      },
      "execution_count": null,
      "outputs": [
        {
          "output_type": "stream",
          "name": "stdout",
          "text": [
            "Pyt\n"
          ]
        }
      ]
    },
    {
      "cell_type": "code",
      "source": [
        "# Q4. Write a code to convert the string \"hello\" to uppercase.\n",
        "My_string = \"hello\"\n",
        "Upper_case = My_string.upper()\n",
        "print(\"Upper Case :\",Upper_case)"
      ],
      "metadata": {
        "colab": {
          "base_uri": "https://localhost:8080/"
        },
        "id": "2ZLbl0_zul-I",
        "outputId": "c6d075bb-7c4d-4c26-a353-a12db3706868"
      },
      "execution_count": null,
      "outputs": [
        {
          "output_type": "stream",
          "name": "stdout",
          "text": [
            "Upper Case : HELLO\n"
          ]
        }
      ]
    },
    {
      "cell_type": "code",
      "source": [
        "# Q5. Write a code to replace the word \"apple\" with \"orange\" in the string \"I like apple\".\n",
        "my_string = \"I like apple\"\n",
        "New_string = my_string.replace(\"apple\", \"orange\")\n",
        "print(\"Changed String :\",New_string)"
      ],
      "metadata": {
        "colab": {
          "base_uri": "https://localhost:8080/"
        },
        "id": "zoi9V6zRvij5",
        "outputId": "e3394dca-1d79-4d55-d5d2-ed5ef897d96a"
      },
      "execution_count": null,
      "outputs": [
        {
          "output_type": "stream",
          "name": "stdout",
          "text": [
            "Changed String : I like orange\n"
          ]
        }
      ]
    },
    {
      "cell_type": "code",
      "source": [
        "# Q6. Write a code to create a list with numbers 1 to 5 and print it.\n",
        "my_list = [1,2,3,4,5]\n",
        "print(\"List with numbers 1 to 5 :\",my_list)"
      ],
      "metadata": {
        "colab": {
          "base_uri": "https://localhost:8080/"
        },
        "id": "UFveIBs1wK6_",
        "outputId": "44eb644c-c1b1-4ddd-baa3-2efb8c226942"
      },
      "execution_count": null,
      "outputs": [
        {
          "output_type": "stream",
          "name": "stdout",
          "text": [
            "List with numbers 1 to 5 : [1, 2, 3, 4, 5]\n"
          ]
        }
      ]
    },
    {
      "cell_type": "code",
      "source": [
        "# Q7. Write a code to append the number 10 to the list [1, 2, 3, 4].\n",
        "my_list = [1,2,3,4]\n",
        "my_list.append(10)\n",
        "print(\"Appended list is :\",my_list)"
      ],
      "metadata": {
        "colab": {
          "base_uri": "https://localhost:8080/"
        },
        "id": "I3g54Q_OxaLu",
        "outputId": "3ac6e60f-f180-4aaa-89d6-b208d4afcc6d"
      },
      "execution_count": null,
      "outputs": [
        {
          "output_type": "stream",
          "name": "stdout",
          "text": [
            "Appended list is : [1, 2, 3, 4, 10]\n"
          ]
        }
      ]
    },
    {
      "cell_type": "code",
      "source": [
        "# Q8. Write a code to remove the number 3 from the list [1, 2, 3, 4, 5].\n",
        "my_list =[1,2,3,4,5]\n",
        "my_list.remove(3)\n",
        "print(\"Removed element 3 from list :\",my_list)"
      ],
      "metadata": {
        "colab": {
          "base_uri": "https://localhost:8080/"
        },
        "id": "WLPyDHyjyDpr",
        "outputId": "a678c592-7e39-4f44-8673-e8139db4c318"
      },
      "execution_count": null,
      "outputs": [
        {
          "output_type": "stream",
          "name": "stdout",
          "text": [
            "Removed element 3 from list : [1, 2, 4, 5]\n"
          ]
        }
      ]
    },
    {
      "cell_type": "code",
      "source": [
        "# Q9. Write a code to access the second element in the list ['a', 'b', 'c', 'd'].\n",
        "my_list = ['a', 'b', 'c', 'd']\n",
        "print(\"Second element in the list :\",my_list[1])"
      ],
      "metadata": {
        "colab": {
          "base_uri": "https://localhost:8080/"
        },
        "id": "nLyOxnPWyY_c",
        "outputId": "6892e8fd-9fb0-4826-81e3-5c4cac3e9260"
      },
      "execution_count": null,
      "outputs": [
        {
          "output_type": "stream",
          "name": "stdout",
          "text": [
            "Second element in the list : b\n"
          ]
        }
      ]
    },
    {
      "cell_type": "code",
      "source": [
        "# Q10. Write a code to reverse the list [10, 20, 30, 40, 50].\n",
        "my_list = [10, 20, 30, 40, 50]\n",
        "my_list.reverse()\n",
        "print(\"Reversed list :\",my_list)"
      ],
      "metadata": {
        "colab": {
          "base_uri": "https://localhost:8080/"
        },
        "id": "PsoK3owTymdp",
        "outputId": "3f026b9b-6809-4032-e107-c8e65b9ccd52"
      },
      "execution_count": null,
      "outputs": [
        {
          "output_type": "stream",
          "name": "stdout",
          "text": [
            "Reversed list : [50, 40, 30, 20, 10]\n"
          ]
        }
      ]
    },
    {
      "cell_type": "code",
      "source": [
        "# Q11. Write a code to create a tuple with the elements 100, 200, 300 and print it.\n",
        "my_tuple = (100,200,300)\n",
        "print(\"Tuple with elements 100, 200, 300 is :\",my_tuple)"
      ],
      "metadata": {
        "id": "dlvXH6iKyt4K"
      },
      "execution_count": null,
      "outputs": []
    },
    {
      "cell_type": "code",
      "source": [
        "# Q12. Write a code to access the second-to-last element of the tuple ('red', 'green', 'blue', 'yellow').\n",
        "my_tuple =(\"red\", \"green\", \"blue\",\"yellow\")\n",
        "my_tuple[2]\n",
        "# or we can access it by my_tuple[-2]\n"
      ],
      "metadata": {
        "colab": {
          "base_uri": "https://localhost:8080/",
          "height": 35
        },
        "id": "PtbVHu8sy05O",
        "outputId": "5222264a-24f6-4f1d-bc14-696b481e4b6d"
      },
      "execution_count": null,
      "outputs": [
        {
          "output_type": "execute_result",
          "data": {
            "text/plain": [
              "'blue'"
            ],
            "application/vnd.google.colaboratory.intrinsic+json": {
              "type": "string"
            }
          },
          "metadata": {},
          "execution_count": 26
        }
      ]
    },
    {
      "cell_type": "code",
      "source": [
        "# Q13. Write a code to find the minimum number in the tuple (10, 20, 5, 15).\n",
        "my_tuple = (10,20,5,15)\n",
        "Minimum = min(my_tuple)\n",
        "print(\"Minimum element in tuple is :\", Minimum)"
      ],
      "metadata": {
        "colab": {
          "base_uri": "https://localhost:8080/"
        },
        "id": "YYvNaE-8zekz",
        "outputId": "bac401f8-9399-4e1f-8fd8-f1f7480d1e49"
      },
      "execution_count": null,
      "outputs": [
        {
          "output_type": "stream",
          "name": "stdout",
          "text": [
            "Minimum element in tuple is : 5\n"
          ]
        }
      ]
    },
    {
      "cell_type": "code",
      "source": [
        "# Q14. Write a code to find the index of the element \"cat\" in the tuple ('dog', 'cat', 'rabbit').\n",
        "my_tuple = (\"dog\", \"cat\",\"rabbit\")\n",
        "Indexx = my_tuple.index(\"cat\")\n",
        "print(\"Index of element cat in tuple is :\", Indexx)"
      ],
      "metadata": {
        "colab": {
          "base_uri": "https://localhost:8080/"
        },
        "id": "29NlaUpl0D5T",
        "outputId": "a5aae66f-9057-4a5a-ab17-a14125ba721d"
      },
      "execution_count": null,
      "outputs": [
        {
          "output_type": "stream",
          "name": "stdout",
          "text": [
            "Index of element cat in tuple is : 1\n"
          ]
        }
      ]
    },
    {
      "cell_type": "code",
      "source": [
        "# Q15. Write a code to create a tuple containing three different fruits and check if \"kiwi\" is in it.\n",
        "Fruits = (\"Apple\",'Orange', 'Grapes')\n",
        "if \"kiwi\" in Fruits :\n",
        "  print(\"Kiwi is in the tuple Fruits\")\n",
        "else :\n",
        "  print(\"Kiwi is not in tuple Fruits\")"
      ],
      "metadata": {
        "colab": {
          "base_uri": "https://localhost:8080/"
        },
        "id": "IFE1D62A0nhy",
        "outputId": "d18d2450-9177-45f7-85bc-2425fa98c966"
      },
      "execution_count": null,
      "outputs": [
        {
          "output_type": "stream",
          "name": "stdout",
          "text": [
            "Kiwi is not in tuple Fruits\n"
          ]
        }
      ]
    },
    {
      "cell_type": "code",
      "source": [
        "# Q16. Write a code to create a set with the elements 'a', 'b', 'c' and print it.\n",
        "my_set = {'a','b','c'}\n",
        "print(\"The set is :\",my_set)"
      ],
      "metadata": {
        "colab": {
          "base_uri": "https://localhost:8080/"
        },
        "id": "AUEKUjRR1gjH",
        "outputId": "3f16251a-c5fd-43d9-f572-a948d43752ec"
      },
      "execution_count": null,
      "outputs": [
        {
          "output_type": "stream",
          "name": "stdout",
          "text": [
            "The set is : {'b', 'c', 'a'}\n"
          ]
        }
      ]
    },
    {
      "cell_type": "code",
      "source": [
        "# Q17. Write a code to clear all elements from the set {1, 2, 3, 4, 5}.\n",
        "my_set = {1, 2, 3, 4, 5}\n",
        "Empty = my_set.clear\n",
        "print(\"Empty set is :\", Empty)"
      ],
      "metadata": {
        "colab": {
          "base_uri": "https://localhost:8080/"
        },
        "id": "UvGA0vnQ2Q6p",
        "outputId": "a52a0aa4-7e08-4b67-cca7-2b422de0bc41"
      },
      "execution_count": null,
      "outputs": [
        {
          "output_type": "stream",
          "name": "stdout",
          "text": [
            "Empty set is : <built-in method clear of set object at 0x785be81c8ba0>\n"
          ]
        }
      ]
    },
    {
      "cell_type": "code",
      "source": [
        "# Q18. Write a code to remove the element 4 from the set {1, 2, 3, 4}.\n",
        "my_set = {1, 2, 3, 4}\n",
        "my_set.remove(4)\n",
        "print(\"Removed element 4 from set :\",my_set)"
      ],
      "metadata": {
        "colab": {
          "base_uri": "https://localhost:8080/"
        },
        "id": "P-m-bWs_23wN",
        "outputId": "bc5b91f6-076c-42dc-ff48-b405f5b321bd"
      },
      "execution_count": null,
      "outputs": [
        {
          "output_type": "stream",
          "name": "stdout",
          "text": [
            "Removed element 4 from set : {1, 2, 3}\n"
          ]
        }
      ]
    },
    {
      "cell_type": "code",
      "source": [
        "# Q19. Write a code to find the union of two sets {1, 2, 3} and {3, 4, 5}.\n",
        "set_1 = {1, 2, 3}\n",
        "set_2 = {3, 4, 5}\n",
        "Union_set = set_1.union(set_2) #when using union if there is a common element in the both sets its written only one time in the union set\n",
        "print(\"Union of two sets is :\",Union_set)\n"
      ],
      "metadata": {
        "colab": {
          "base_uri": "https://localhost:8080/"
        },
        "id": "ucrMghVG3e8c",
        "outputId": "2a20db95-283f-4283-934b-5141e12fb629"
      },
      "execution_count": null,
      "outputs": [
        {
          "output_type": "stream",
          "name": "stdout",
          "text": [
            "Union of two sets is : {1, 2, 3, 4, 5}\n"
          ]
        }
      ]
    },
    {
      "cell_type": "code",
      "source": [
        "# Q20. Write a code to find the intersection of two sets {1, 2, 3} and {2, 3, 4}.\n",
        "set_1 = {1, 2, 3}\n",
        "set_2 = {2, 3, 4}\n",
        "Intersection_set = set_1.intersection(set_2)\n",
        "print(\"Intersection set is :\",Intersection_set)"
      ],
      "metadata": {
        "colab": {
          "base_uri": "https://localhost:8080/"
        },
        "id": "GTjztap64YWt",
        "outputId": "d29f193a-14eb-413b-9240-5f8a0c08ad68"
      },
      "execution_count": null,
      "outputs": [
        {
          "output_type": "stream",
          "name": "stdout",
          "text": [
            "Intersection set is : {2, 3}\n"
          ]
        }
      ]
    },
    {
      "cell_type": "code",
      "source": [
        "# Q21. Write a code to create a dictionary with the keys \"name\", \"age\", and \"city\", and print it.\n",
        "info_dict = {\n",
        "    \"name\" : \"Kunal\",\n",
        "    \"age\"  : 20,\n",
        "    \"city\" : \"Delhi\"\n",
        "}\n",
        "print(\"Dictionary :\",info_dict)"
      ],
      "metadata": {
        "id": "r-0bdacm41WR",
        "colab": {
          "base_uri": "https://localhost:8080/"
        },
        "outputId": "ade7d3eb-81a7-4531-9b61-e013bd1f48a1"
      },
      "execution_count": 3,
      "outputs": [
        {
          "output_type": "stream",
          "name": "stdout",
          "text": [
            "Dictionary : {'name': 'Kunal', 'age': 20, 'city': 'Delhi'}\n"
          ]
        }
      ]
    },
    {
      "cell_type": "code",
      "source": [
        "# Q22. Write a code to add a new key-value pair \"country\": \"USA\" to the dictionary {'name': 'John', 'age': 25}.\n",
        "info_dict ={\n",
        "    \"name\" : \"John\",\n",
        "    \"age\" : 25\n",
        "}\n",
        "print(info_dict)\n",
        "info_dict[\"country\"]= \"USA\"\n",
        "print (\"Updated dictionary :\",info_dict)"
      ],
      "metadata": {
        "colab": {
          "base_uri": "https://localhost:8080/"
        },
        "id": "ig6a0iA7SSFL",
        "outputId": "d840a7e2-75ac-4c52-add2-c0ac3dcef055"
      },
      "execution_count": 10,
      "outputs": [
        {
          "output_type": "stream",
          "name": "stdout",
          "text": [
            "{'name': 'John', 'age': 25}\n",
            "Updated dictionary : {'name': 'John', 'age': 25, 'country': 'USA'}\n"
          ]
        }
      ]
    },
    {
      "cell_type": "code",
      "source": [
        "# Q23. Write a code to access the value associated with the key \"name\" in the dictionary {'name': 'Alice', 'age': 30}.\n",
        "info_dict = {\n",
        "    \"name\" : \"Alice\",\n",
        "    \"age\" : 30\n",
        "}\n",
        "value = info_dict[\"name\"]\n",
        "print(\"Value associated with name is \",value)"
      ],
      "metadata": {
        "colab": {
          "base_uri": "https://localhost:8080/"
        },
        "id": "k0Vgn2bgTFWd",
        "outputId": "aca60d1a-a1f1-48d9-ff47-d7e86baa3ac6"
      },
      "execution_count": 11,
      "outputs": [
        {
          "output_type": "stream",
          "name": "stdout",
          "text": [
            "Value associated with name is  Alice\n"
          ]
        }
      ]
    },
    {
      "cell_type": "code",
      "source": [
        "# Q24.  Write a code to remove the key \"age\" from the dictionary {'name': 'Bob', 'age': 22, 'city': 'New York'}.\n",
        "person = {\n",
        "    'name': 'Bob',\n",
        "    'age': 22,\n",
        "    'city': 'New York'\n",
        "}\n",
        "person.pop(\"age\")\n",
        "print(\"Updated dictionary :\",person)"
      ],
      "metadata": {
        "colab": {
          "base_uri": "https://localhost:8080/"
        },
        "id": "z8ssPXpqT0Df",
        "outputId": "e0b5c9eb-1ffb-4e84-9ecd-d8ee3e439593"
      },
      "execution_count": 14,
      "outputs": [
        {
          "output_type": "stream",
          "name": "stdout",
          "text": [
            "Updated dictionary : {'name': 'Bob', 'city': 'New York'}\n"
          ]
        }
      ]
    },
    {
      "cell_type": "code",
      "source": [
        "# Q25. Write a code to check if the key \"city\" exists in the dictionary {'name': 'Alice', 'city': 'Paris'}.\n",
        "person = {'name': 'Alice', 'city': 'Paris'}\n",
        "if \"city\" in person:\n",
        "  print(\"Key city exists in dictionary\")\n",
        "else:\n",
        "  print(\"Key city doesn't exists in dictionary\")"
      ],
      "metadata": {
        "colab": {
          "base_uri": "https://localhost:8080/"
        },
        "id": "ugJxJRkEUnRD",
        "outputId": "943905d7-2684-4060-bfff-050a3f1d298b"
      },
      "execution_count": 15,
      "outputs": [
        {
          "output_type": "stream",
          "name": "stdout",
          "text": [
            "Key city exists in dictionary\n"
          ]
        }
      ]
    },
    {
      "cell_type": "code",
      "source": [
        "# Q26. Write a code to create a list, a tuple, and a dictionary, and print them all.\n",
        "my_list = [1, 2, \"apple\", True, 2.5]\n",
        "my_tuple = (1, 2, 3, \"apple\")\n",
        "my_dictionary = {'name': \"Kunal\",'age': 20, \"place\":\"Delhi\" }\n",
        "print(\"List is :\", my_list)\n",
        "print(\"Tuple is :\",my_tuple)\n",
        "print(\"Dictionary is :\",my_dictionary)\n"
      ],
      "metadata": {
        "colab": {
          "base_uri": "https://localhost:8080/"
        },
        "id": "rdXNQCKfVNMt",
        "outputId": "28212f13-e7bd-4115-a760-9ae63d7ee42a"
      },
      "execution_count": 17,
      "outputs": [
        {
          "output_type": "stream",
          "name": "stdout",
          "text": [
            "List is : [1, 2, 'apple', True, 2.5]\n",
            "Tuple is : (1, 2, 3, 'apple')\n",
            "Dictionary is : {'name': 'Kunal', 'age': 20, 'place': 'Delhi'}\n",
            "Dictionary is : {'name': 'Kunal', 'age': 20, 'place': 'Delhi'}\n"
          ]
        }
      ]
    },
    {
      "cell_type": "code",
      "source": [
        "# Q27.  Write a code to create a list of 5 random numbers between 1 and 100, sort it in ascending order, and print the result.\n",
        "import random\n",
        "numbers = random.sample(range(0,101),5)\n",
        "print(\"Five random numbers are :\",numbers)\n",
        "numbers.sort()\n",
        "print(\"Random numbers in ascending order :\",numbers)"
      ],
      "metadata": {
        "colab": {
          "base_uri": "https://localhost:8080/"
        },
        "id": "TfzPeISQWwqm",
        "outputId": "ccde2bd5-10da-42a5-c984-1134d5123369"
      },
      "execution_count": 24,
      "outputs": [
        {
          "output_type": "stream",
          "name": "stdout",
          "text": [
            "Five random numbers are : [98, 64, 5, 95, 56]\n",
            "Random numbers in ascending order : [5, 56, 64, 95, 98]\n"
          ]
        }
      ]
    },
    {
      "cell_type": "code",
      "source": [
        "# Q28. Write a code to create a list with strings and print the element at the third index.\n",
        "Names = [\"Apple\", \"Orange\", \"Banana\", \"Grapes\", \"Kiwi\", \"Pineapple\"]\n",
        "print(\"Element at index 3 in names list is \",Names[3])"
      ],
      "metadata": {
        "colab": {
          "base_uri": "https://localhost:8080/"
        },
        "id": "iH3sG_zVX-pR",
        "outputId": "b6892ddf-9b49-4220-c0f0-525066206dd1"
      },
      "execution_count": 25,
      "outputs": [
        {
          "output_type": "stream",
          "name": "stdout",
          "text": [
            "Element at index 3 in names list is  Grapes\n"
          ]
        }
      ]
    },
    {
      "cell_type": "code",
      "source": [
        "# Q29. Write a code to combine two dictionaries into one and print the result.\n",
        "\n",
        "dict_1 = {\"name\": \"Kunal\", \"age\": 20}\n",
        "dict_2 = {\"sex\": \"male\",\"city\":\"Delhi\"}\n",
        "dict_1.update(dict_2)\n",
        "print(\"Combined dictionary :\",dict_1)"
      ],
      "metadata": {
        "colab": {
          "base_uri": "https://localhost:8080/"
        },
        "id": "3aZhEhv8Ysml",
        "outputId": "f538a573-8a8c-4927-fee6-c9292da173e2"
      },
      "execution_count": 28,
      "outputs": [
        {
          "output_type": "stream",
          "name": "stdout",
          "text": [
            "Combined dictionary : {'name': 'Kunal', 'age': 20, 'sex': 'male', 'city': 'Delhi'}\n"
          ]
        }
      ]
    },
    {
      "cell_type": "code",
      "source": [
        "# Q30. Write a code to convert a list of strings into a set.\n",
        "Names = [\"Apple\", \"Orange\", \"Banana\", \"Grapes\", \"Kiwi\", \"Pineapple\"]\n",
        "str_set = set(Names)\n",
        "print(\"Set:\",str_set)"
      ],
      "metadata": {
        "colab": {
          "base_uri": "https://localhost:8080/"
        },
        "id": "-ZNRxt3AZPqm",
        "outputId": "da2f6196-bbb4-4f66-8687-67e6521c05aa"
      },
      "execution_count": 29,
      "outputs": [
        {
          "output_type": "stream",
          "name": "stdout",
          "text": [
            "Set: {'Banana', 'Orange', 'Pineapple', 'Grapes', 'Apple', 'Kiwi'}\n"
          ]
        }
      ]
    }
  ]
}